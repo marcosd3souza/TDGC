{
 "cells": [
  {
   "cell_type": "code",
   "execution_count": 135,
   "id": "0380ac56-d295-45e5-800d-5c9c8f01b5c5",
   "metadata": {},
   "outputs": [],
   "source": [
    "import numpy as np\n",
    "from sklearn import datasets\n",
    "from scipy.spatial.distance import pdist,squareform\n",
    "from sklearn.preprocessing import StandardScaler,MinMaxScaler\n",
    "import matplotlib.pyplot as plt\n",
    "from sklearn.cluster import DBSCAN"
   ]
  },
  {
   "cell_type": "code",
   "execution_count": 35,
   "id": "b04d005f-c5ec-4ede-a6c8-b52a58db1dd3",
   "metadata": {},
   "outputs": [],
   "source": [
    "from tmap.tda.metric import Metric\n",
    "from tmap.tda import mapper, Filter\n",
    "from tmap.tda.cover import Cover\n",
    "from tmap.tda.plot import Color"
   ]
  },
  {
   "cell_type": "code",
   "execution_count": 80,
   "id": "d108c259-9b69-44a9-aec5-096e72e756f3",
   "metadata": {},
   "outputs": [],
   "source": [
    "import community as community_louvain"
   ]
  },
  {
   "cell_type": "code",
   "execution_count": 121,
   "id": "e8df60e8-23bd-4ea3-959e-83c8ead921a3",
   "metadata": {},
   "outputs": [],
   "source": [
    "import torch\n",
    "from torch_geometric.datasets import Planetoid\n",
    "from torch_geometric.transforms import NormalizeFeatures"
   ]
  },
  {
   "cell_type": "code",
   "execution_count": 136,
   "id": "7fdbc50f-5312-4393-9da4-e46a725f6cf8",
   "metadata": {},
   "outputs": [
    {
     "name": "stdout",
     "output_type": "stream",
     "text": [
      "Dataset: Cora():\n",
      "======================\n",
      "Number of graphs: 1\n",
      "Number of features: 1433\n",
      "Number of classes: 7\n",
      "Data(x=[2708, 1433], edge_index=[2, 10556], y=[2708], train_mask=[2708], val_mask=[2708], test_mask=[2708])\n"
     ]
    }
   ],
   "source": [
    "dataset = Planetoid(root='data/Planetoid', name='Cora', transform=NormalizeFeatures())\n",
    "\n",
    "print(f'Dataset: {dataset}:')\n",
    "print('======================')\n",
    "print(f'Number of graphs: {len(dataset)}')\n",
    "print(f'Number of features: {dataset.num_features}')\n",
    "print(f'Number of classes: {dataset.num_classes}')\n",
    "\n",
    "data = dataset[0]  # Get the first graph object.\n",
    "print(data)"
   ]
  },
  {
   "cell_type": "code",
   "execution_count": 51,
   "id": "37926ca0-7189-4346-b0d5-5c4725968c67",
   "metadata": {},
   "outputs": [
    {
     "name": "stdout",
     "output_type": "stream",
     "text": [
      "(150, 4)\n"
     ]
    },
    {
     "data": {
      "text/plain": [
       "array([[5.1, 3.5, 1.4, 0.2],\n",
       "       [4.9, 3. , 1.4, 0.2],\n",
       "       [4.7, 3.2, 1.3, 0.2],\n",
       "       [4.6, 3.1, 1.5, 0.2],\n",
       "       [5. , 3.6, 1.4, 0.2]])"
      ]
     },
     "execution_count": 51,
     "metadata": {},
     "output_type": "execute_result"
    }
   ],
   "source": [
    "iris = datasets.load_iris()\n",
    "X = iris.data\n",
    "\n",
    "# distance matrix\n",
    "D = squareform(pdist(X, metric=\"braycurtis\"))\n",
    "\n",
    "print(X.shape)\n",
    "X[0:5]"
   ]
  },
  {
   "cell_type": "code",
   "execution_count": 137,
   "id": "6c6b1b0e-ef4d-4e78-a827-2ec3138e2ec6",
   "metadata": {},
   "outputs": [
    {
     "name": "stdout",
     "output_type": "stream",
     "text": [
      "(2708, 1433)\n"
     ]
    },
    {
     "data": {
      "text/plain": [
       "array([[0., 0., 0., ..., 0., 0., 0.],\n",
       "       [0., 0., 0., ..., 0., 0., 0.],\n",
       "       [0., 0., 0., ..., 0., 0., 0.],\n",
       "       [0., 0., 0., ..., 0., 0., 0.],\n",
       "       [0., 0., 0., ..., 0., 0., 0.]], dtype=float32)"
      ]
     },
     "execution_count": 137,
     "metadata": {},
     "output_type": "execute_result"
    }
   ],
   "source": [
    "X = data.x.numpy()\n",
    "y = data.y.numpy()\n",
    "print(X.shape)\n",
    "X[0:5]"
   ]
  },
  {
   "cell_type": "code",
   "execution_count": null,
   "id": "9b940b1e-2c2c-4b39-8684-ebbb7edc95da",
   "metadata": {},
   "outputs": [
    {
     "name": "stdout",
     "output_type": "stream",
     "text": [
      "Filtering by MDS.\n",
      "...calculate Filter(which used to create cover) using the provided euclidean lens.\n"
     ]
    },
    {
     "name": "stderr",
     "output_type": "stream",
     "text": [
      "/home/marcos/miniconda3/envs/deep_graph_clustering/lib/python3.10/site-packages/sklearn/manifold/_mds.py:611: UserWarning:\n",
      "\n",
      "The MDS API has changed. ``fit`` now constructs an dissimilarity matrix from data. To use a custom dissimilarity matrix, set ``dissimilarity='precomputed'``.\n",
      "\n"
     ]
    }
   ],
   "source": [
    "# Step1. initiate a Mapper\n",
    "tm = mapper.Mapper(verbose=1)\n",
    "\n",
    "# Step2. Projection\n",
    "lens = [Filter.MDS()]\n",
    "projected_X = tm.filter(X, lens=lens)\n",
    "\n",
    "print('------------> projection in 2D')\n",
    "print(projected_X.shape)\n",
    "\n",
    "plt.scatter(projected_X[:, 0], projected_X[:, 1], c=y)"
   ]
  },
  {
   "cell_type": "code",
   "execution_count": 134,
   "id": "9014a396-3cbe-42bc-b6e2-616fd7ce1ba3",
   "metadata": {},
   "outputs": [
    {
     "name": "stderr",
     "output_type": "stream",
     "text": [
      "100%|████████████████████████████████████████| 400/400 [00:01<00:00, 332.37it/s]\n"
     ]
    },
    {
     "name": "stdout",
     "output_type": "stream",
     "text": [
      "Mapping on data (2708, 1433) using lens (2708, 2)\n",
      "...minimal number of points in hypercube to do clustering: 1\n",
      "...create 14192 nodes.\n",
      "...calculate projection coordinates of nodes.\n",
      "...construct a TDA graph.\n"
     ]
    },
    {
     "ename": "KeyboardInterrupt",
     "evalue": "",
     "output_type": "error",
     "traceback": [
      "\u001b[0;31m---------------------------------------------------------------------------\u001b[0m",
      "\u001b[0;31mKeyboardInterrupt\u001b[0m                         Traceback (most recent call last)",
      "Cell \u001b[0;32mIn[134], line 6\u001b[0m\n\u001b[1;32m      2\u001b[0m cover \u001b[38;5;241m=\u001b[39m Cover(projected_data\u001b[38;5;241m=\u001b[39mMinMaxScaler()\u001b[38;5;241m.\u001b[39mfit_transform(projected_X), resolution\u001b[38;5;241m=\u001b[39m\u001b[38;5;241m20\u001b[39m, overlap\u001b[38;5;241m=\u001b[39m\u001b[38;5;241m0.75\u001b[39m)\n\u001b[1;32m      4\u001b[0m \u001b[38;5;66;03m# Step4. Create Graph\u001b[39;00m\n\u001b[1;32m      5\u001b[0m \u001b[38;5;66;03m# clusterer = DBSCAN(eps=0.75, min_samples=1)\u001b[39;00m\n\u001b[0;32m----> 6\u001b[0m graph \u001b[38;5;241m=\u001b[39m \u001b[43mtm\u001b[49m\u001b[38;5;241;43m.\u001b[39;49m\u001b[43mmap\u001b[49m\u001b[43m(\u001b[49m\u001b[43mdata\u001b[49m\u001b[38;5;241;43m=\u001b[39;49m\u001b[43mStandardScaler\u001b[49m\u001b[43m(\u001b[49m\u001b[43m)\u001b[49m\u001b[38;5;241;43m.\u001b[39;49m\u001b[43mfit_transform\u001b[49m\u001b[43m(\u001b[49m\u001b[43mX\u001b[49m\u001b[43m)\u001b[49m\u001b[43m,\u001b[49m\u001b[43m \u001b[49m\u001b[43mcover\u001b[49m\u001b[38;5;241;43m=\u001b[39;49m\u001b[43mcover\u001b[49m\u001b[43m)\u001b[49m\n\u001b[1;32m      8\u001b[0m \u001b[38;5;28mprint\u001b[39m(\u001b[38;5;28mlen\u001b[39m(graph\u001b[38;5;241m.\u001b[39mnodes),\u001b[38;5;28mlen\u001b[39m(graph\u001b[38;5;241m.\u001b[39medges))\n",
      "File \u001b[0;32m~/miniconda3/envs/deep_graph_clustering/lib/python3.10/site-packages/tmap/tda/mapper.py:176\u001b[0m, in \u001b[0;36mMapper.map\u001b[0;34m(self, data, cover, clusterer)\u001b[0m\n\u001b[1;32m    172\u001b[0m     \u001b[38;5;28mprint\u001b[39m(\u001b[38;5;124m\"\u001b[39m\u001b[38;5;124m...construct a TDA graph.\u001b[39m\u001b[38;5;124m\"\u001b[39m)\n\u001b[1;32m    174\u001b[0m node_ids \u001b[38;5;241m=\u001b[39m nodes\u001b[38;5;241m.\u001b[39mkeys()\n\u001b[0;32m--> 176\u001b[0m edges \u001b[38;5;241m=\u001b[39m [edge \u001b[38;5;28;01mfor\u001b[39;00m edge \u001b[38;5;129;01min\u001b[39;00m itertools\u001b[38;5;241m.\u001b[39mcombinations(node_ids, \u001b[38;5;241m2\u001b[39m) \u001b[38;5;28;01mif\u001b[39;00m np\u001b[38;5;241m.\u001b[39many(nodes[edge[\u001b[38;5;241m0\u001b[39m]] \u001b[38;5;241m&\u001b[39m nodes[edge[\u001b[38;5;241m1\u001b[39m]])]\n\u001b[1;32m    177\u001b[0m \u001b[38;5;66;03m# edges_df = pd.DataFrame(columns=['Source', 'End'], data=np.array(edges))\u001b[39;00m\n\u001b[1;32m    178\u001b[0m \u001b[38;5;66;03m# adj_matrix = pd.crosstab(edges_df.Source, edges_df.End)\u001b[39;00m\n\u001b[1;32m    179\u001b[0m \u001b[38;5;66;03m# adj_matrix = adj_matrix.reindex(index=node_ids, columns=node_ids).replace(0, np.nan)\u001b[39;00m\n\u001b[0;32m   (...)\u001b[0m\n\u001b[1;32m    188\u001b[0m \u001b[38;5;66;03m# edges = adj_matrix.stack(dropna=True)\u001b[39;00m\n\u001b[1;32m    189\u001b[0m \u001b[38;5;66;03m# edges = edges.index.tolist()\u001b[39;00m\n\u001b[1;32m    190\u001b[0m \u001b[38;5;28;01mif\u001b[39;00m \u001b[38;5;28mself\u001b[39m\u001b[38;5;241m.\u001b[39mverbose \u001b[38;5;241m>\u001b[39m\u001b[38;5;241m=\u001b[39m \u001b[38;5;241m1\u001b[39m:\n",
      "File \u001b[0;32m~/miniconda3/envs/deep_graph_clustering/lib/python3.10/site-packages/tmap/tda/mapper.py:176\u001b[0m, in \u001b[0;36m<listcomp>\u001b[0;34m(.0)\u001b[0m\n\u001b[1;32m    172\u001b[0m     \u001b[38;5;28mprint\u001b[39m(\u001b[38;5;124m\"\u001b[39m\u001b[38;5;124m...construct a TDA graph.\u001b[39m\u001b[38;5;124m\"\u001b[39m)\n\u001b[1;32m    174\u001b[0m node_ids \u001b[38;5;241m=\u001b[39m nodes\u001b[38;5;241m.\u001b[39mkeys()\n\u001b[0;32m--> 176\u001b[0m edges \u001b[38;5;241m=\u001b[39m [edge \u001b[38;5;28;01mfor\u001b[39;00m edge \u001b[38;5;129;01min\u001b[39;00m itertools\u001b[38;5;241m.\u001b[39mcombinations(node_ids, \u001b[38;5;241m2\u001b[39m) \u001b[38;5;28;01mif\u001b[39;00m \u001b[43mnp\u001b[49m\u001b[38;5;241;43m.\u001b[39;49m\u001b[43many\u001b[49m\u001b[43m(\u001b[49m\u001b[43mnodes\u001b[49m\u001b[43m[\u001b[49m\u001b[43medge\u001b[49m\u001b[43m[\u001b[49m\u001b[38;5;241;43m0\u001b[39;49m\u001b[43m]\u001b[49m\u001b[43m]\u001b[49m\u001b[43m \u001b[49m\u001b[38;5;241;43m&\u001b[39;49m\u001b[43m \u001b[49m\u001b[43mnodes\u001b[49m\u001b[43m[\u001b[49m\u001b[43medge\u001b[49m\u001b[43m[\u001b[49m\u001b[38;5;241;43m1\u001b[39;49m\u001b[43m]\u001b[49m\u001b[43m]\u001b[49m\u001b[43m)\u001b[49m]\n\u001b[1;32m    177\u001b[0m \u001b[38;5;66;03m# edges_df = pd.DataFrame(columns=['Source', 'End'], data=np.array(edges))\u001b[39;00m\n\u001b[1;32m    178\u001b[0m \u001b[38;5;66;03m# adj_matrix = pd.crosstab(edges_df.Source, edges_df.End)\u001b[39;00m\n\u001b[1;32m    179\u001b[0m \u001b[38;5;66;03m# adj_matrix = adj_matrix.reindex(index=node_ids, columns=node_ids).replace(0, np.nan)\u001b[39;00m\n\u001b[0;32m   (...)\u001b[0m\n\u001b[1;32m    188\u001b[0m \u001b[38;5;66;03m# edges = adj_matrix.stack(dropna=True)\u001b[39;00m\n\u001b[1;32m    189\u001b[0m \u001b[38;5;66;03m# edges = edges.index.tolist()\u001b[39;00m\n\u001b[1;32m    190\u001b[0m \u001b[38;5;28;01mif\u001b[39;00m \u001b[38;5;28mself\u001b[39m\u001b[38;5;241m.\u001b[39mverbose \u001b[38;5;241m>\u001b[39m\u001b[38;5;241m=\u001b[39m \u001b[38;5;241m1\u001b[39m:\n",
      "File \u001b[0;32m~/.local/lib/python3.10/site-packages/numpy/core/fromnumeric.py:2317\u001b[0m, in \u001b[0;36m_any_dispatcher\u001b[0;34m(a, axis, out, keepdims, where)\u001b[0m\n\u001b[1;32m   2311\u001b[0m         \u001b[38;5;28;01mreturn\u001b[39;00m res\n\u001b[1;32m   2313\u001b[0m     \u001b[38;5;28;01mreturn\u001b[39;00m _wrapreduction(a, np\u001b[38;5;241m.\u001b[39madd, \u001b[38;5;124m'\u001b[39m\u001b[38;5;124msum\u001b[39m\u001b[38;5;124m'\u001b[39m, axis, dtype, out, keepdims\u001b[38;5;241m=\u001b[39mkeepdims,\n\u001b[1;32m   2314\u001b[0m                           initial\u001b[38;5;241m=\u001b[39minitial, where\u001b[38;5;241m=\u001b[39mwhere)\n\u001b[0;32m-> 2317\u001b[0m \u001b[38;5;28;01mdef\u001b[39;00m \u001b[38;5;21m_any_dispatcher\u001b[39m(a, axis\u001b[38;5;241m=\u001b[39m\u001b[38;5;28;01mNone\u001b[39;00m, out\u001b[38;5;241m=\u001b[39m\u001b[38;5;28;01mNone\u001b[39;00m, keepdims\u001b[38;5;241m=\u001b[39m\u001b[38;5;28;01mNone\u001b[39;00m, \u001b[38;5;241m*\u001b[39m,\n\u001b[1;32m   2318\u001b[0m                     where\u001b[38;5;241m=\u001b[39mnp\u001b[38;5;241m.\u001b[39m_NoValue):\n\u001b[1;32m   2319\u001b[0m     \u001b[38;5;28;01mreturn\u001b[39;00m (a, where, out)\n\u001b[1;32m   2322\u001b[0m \u001b[38;5;129m@array_function_dispatch\u001b[39m(_any_dispatcher)\n\u001b[1;32m   2323\u001b[0m \u001b[38;5;28;01mdef\u001b[39;00m \u001b[38;5;21many\u001b[39m(a, axis\u001b[38;5;241m=\u001b[39m\u001b[38;5;28;01mNone\u001b[39;00m, out\u001b[38;5;241m=\u001b[39m\u001b[38;5;28;01mNone\u001b[39;00m, keepdims\u001b[38;5;241m=\u001b[39mnp\u001b[38;5;241m.\u001b[39m_NoValue, \u001b[38;5;241m*\u001b[39m, where\u001b[38;5;241m=\u001b[39mnp\u001b[38;5;241m.\u001b[39m_NoValue):\n",
      "\u001b[0;31mKeyboardInterrupt\u001b[0m: "
     ]
    }
   ],
   "source": [
    "# Step3. Create Cover\n",
    "cover = Cover(projected_data=MinMaxScaler().fit_transform(projected_X), resolution=20, overlap=0.75)\n",
    "\n",
    "# Step4. Create Graph\n",
    "# clusterer = DBSCAN(eps=0.75, min_samples=1)\n",
    "graph = tm.map(data=StandardScaler().fit_transform(X), cover=cover)\n",
    "\n",
    "print(len(graph.nodes),len(graph.edges))"
   ]
  },
  {
   "cell_type": "code",
   "execution_count": 132,
   "id": "a496f81a-dc10-4967-8e7d-cbbe5658d46d",
   "metadata": {},
   "outputs": [
    {
     "data": {
      "text/plain": [
       "array([[0, 1, 1, ..., 0, 0, 0],\n",
       "       [1, 0, 1, ..., 0, 0, 0],\n",
       "       [1, 1, 0, ..., 0, 0, 0],\n",
       "       ...,\n",
       "       [0, 0, 0, ..., 0, 0, 1],\n",
       "       [0, 0, 0, ..., 0, 0, 0],\n",
       "       [0, 0, 0, ..., 1, 0, 0]])"
      ]
     },
     "execution_count": 132,
     "metadata": {},
     "output_type": "execute_result"
    }
   ],
   "source": [
    "nx.adjacency_matrix(graph).toarray()"
   ]
  }
 ],
 "metadata": {
  "kernelspec": {
   "display_name": "Python 3 (ipykernel)",
   "language": "python",
   "name": "python3"
  },
  "language_info": {
   "codemirror_mode": {
    "name": "ipython",
    "version": 3
   },
   "file_extension": ".py",
   "mimetype": "text/x-python",
   "name": "python",
   "nbconvert_exporter": "python",
   "pygments_lexer": "ipython3",
   "version": "3.10.13"
  }
 },
 "nbformat": 4,
 "nbformat_minor": 5
}
